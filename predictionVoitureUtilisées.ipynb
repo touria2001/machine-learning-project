{
 "cells": [
  {
   "cell_type": "code",
   "execution_count": 1,
   "id": "09e01f57",
   "metadata": {},
   "outputs": [],
   "source": [
    "import pandas as pd"
   ]
  },
  {
   "cell_type": "code",
   "execution_count": 2,
   "id": "aa1f4160",
   "metadata": {},
   "outputs": [],
   "source": [
    "df=pd.read_csv('car data.csv')"
   ]
  },
  {
   "cell_type": "code",
   "execution_count": 3,
   "id": "4ba7bf01",
   "metadata": {},
   "outputs": [
    {
     "data": {
      "text/plain": [
       "(1207, 9)"
      ]
     },
     "execution_count": 3,
     "metadata": {},
     "output_type": "execute_result"
    }
   ],
   "source": [
    "df.shape"
   ]
  },
  {
   "cell_type": "code",
   "execution_count": 4,
   "id": "f8e7e239",
   "metadata": {},
   "outputs": [
    {
     "ename": "SyntaxError",
     "evalue": "invalid syntax (Temp/ipykernel_15312/1951995059.py, line 1)",
     "output_type": "error",
     "traceback": [
      "\u001b[1;36m  File \u001b[1;32m\"C:\\Users\\touria\\AppData\\Local\\Temp/ipykernel_15312/1951995059.py\"\u001b[1;36m, line \u001b[1;32m1\u001b[0m\n\u001b[1;33m    df[]\u001b[0m\n\u001b[1;37m       ^\u001b[0m\n\u001b[1;31mSyntaxError\u001b[0m\u001b[1;31m:\u001b[0m invalid syntax\n"
     ]
    }
   ],
   "source": [
    "df[]"
   ]
  },
  {
   "cell_type": "code",
   "execution_count": 5,
   "id": "a7d9172d",
   "metadata": {},
   "outputs": [
    {
     "data": {
      "text/html": [
       "<div>\n",
       "<style scoped>\n",
       "    .dataframe tbody tr th:only-of-type {\n",
       "        vertical-align: middle;\n",
       "    }\n",
       "\n",
       "    .dataframe tbody tr th {\n",
       "        vertical-align: top;\n",
       "    }\n",
       "\n",
       "    .dataframe thead th {\n",
       "        text-align: right;\n",
       "    }\n",
       "</style>\n",
       "<table border=\"1\" class=\"dataframe\">\n",
       "  <thead>\n",
       "    <tr style=\"text-align: right;\">\n",
       "      <th></th>\n",
       "      <th>Car_Name</th>\n",
       "      <th>Year</th>\n",
       "      <th>Selling_Price</th>\n",
       "      <th>Present_Price</th>\n",
       "      <th>Kms_Driven</th>\n",
       "      <th>Fuel_Type</th>\n",
       "      <th>Seller_Type</th>\n",
       "      <th>Transmission</th>\n",
       "      <th>Owner</th>\n",
       "    </tr>\n",
       "  </thead>\n",
       "  <tbody>\n",
       "    <tr>\n",
       "      <th>0</th>\n",
       "      <td>ritz</td>\n",
       "      <td>2014</td>\n",
       "      <td>3.35</td>\n",
       "      <td>5.59</td>\n",
       "      <td>27000</td>\n",
       "      <td>Petrol</td>\n",
       "      <td>Dealer</td>\n",
       "      <td>Manual</td>\n",
       "      <td>0</td>\n",
       "    </tr>\n",
       "    <tr>\n",
       "      <th>1</th>\n",
       "      <td>sx4</td>\n",
       "      <td>2013</td>\n",
       "      <td>4.75</td>\n",
       "      <td>9.54</td>\n",
       "      <td>43000</td>\n",
       "      <td>Diesel</td>\n",
       "      <td>Dealer</td>\n",
       "      <td>Manual</td>\n",
       "      <td>0</td>\n",
       "    </tr>\n",
       "    <tr>\n",
       "      <th>2</th>\n",
       "      <td>ciaz</td>\n",
       "      <td>2017</td>\n",
       "      <td>7.25</td>\n",
       "      <td>9.85</td>\n",
       "      <td>6900</td>\n",
       "      <td>Petrol</td>\n",
       "      <td>Dealer</td>\n",
       "      <td>Manual</td>\n",
       "      <td>0</td>\n",
       "    </tr>\n",
       "    <tr>\n",
       "      <th>3</th>\n",
       "      <td>wagon r</td>\n",
       "      <td>2011</td>\n",
       "      <td>2.85</td>\n",
       "      <td>4.15</td>\n",
       "      <td>5200</td>\n",
       "      <td>Petrol</td>\n",
       "      <td>Dealer</td>\n",
       "      <td>Manual</td>\n",
       "      <td>0</td>\n",
       "    </tr>\n",
       "    <tr>\n",
       "      <th>4</th>\n",
       "      <td>swift</td>\n",
       "      <td>2014</td>\n",
       "      <td>4.6</td>\n",
       "      <td>6.87</td>\n",
       "      <td>42450</td>\n",
       "      <td>Diesel</td>\n",
       "      <td>Dealer</td>\n",
       "      <td>Manual</td>\n",
       "      <td>0</td>\n",
       "    </tr>\n",
       "  </tbody>\n",
       "</table>\n",
       "</div>"
      ],
      "text/plain": [
       "  Car_Name  Year Selling_Price Present_Price Kms_Driven Fuel_Type Seller_Type  \\\n",
       "0     ritz  2014          3.35          5.59      27000    Petrol      Dealer   \n",
       "1      sx4  2013          4.75          9.54      43000    Diesel      Dealer   \n",
       "2     ciaz  2017          7.25          9.85       6900    Petrol      Dealer   \n",
       "3  wagon r  2011          2.85          4.15       5200    Petrol      Dealer   \n",
       "4    swift  2014           4.6          6.87      42450    Diesel      Dealer   \n",
       "\n",
       "  Transmission Owner  \n",
       "0       Manual     0  \n",
       "1       Manual     0  \n",
       "2       Manual     0  \n",
       "3       Manual     0  \n",
       "4       Manual     0  "
      ]
     },
     "execution_count": 5,
     "metadata": {},
     "output_type": "execute_result"
    }
   ],
   "source": [
    "df.head()"
   ]
  },
  {
   "cell_type": "code",
   "execution_count": 6,
   "id": "c90b0fcb",
   "metadata": {},
   "outputs": [
    {
     "name": "stdout",
     "output_type": "stream",
     "text": [
      "['Dealer' 'Individual' 'Seller_Type']\n",
      "['Petrol' 'Diesel' 'CNG' 'Fuel_Type']\n",
      "['Manual' 'Automatic' 'Transmission']\n",
      "['0' '1' '3' 'Owner']\n"
     ]
    }
   ],
   "source": [
    "print(df['Seller_Type'].unique())\n",
    "print(df['Fuel_Type'].unique())\n",
    "print(df['Transmission'].unique())\n",
    "print(df['Owner'].unique())"
   ]
  },
  {
   "cell_type": "markdown",
   "id": "f6f07440",
   "metadata": {},
   "source": [
    "# vérifier les valeurs nulles"
   ]
  },
  {
   "cell_type": "code",
   "execution_count": 7,
   "id": "9507b96f",
   "metadata": {},
   "outputs": [
    {
     "data": {
      "text/plain": [
       "Car_Name         0\n",
       "Year             0\n",
       "Selling_Price    0\n",
       "Present_Price    0\n",
       "Kms_Driven       0\n",
       "Fuel_Type        0\n",
       "Seller_Type      0\n",
       "Transmission     0\n",
       "Owner            0\n",
       "dtype: int64"
      ]
     },
     "execution_count": 7,
     "metadata": {},
     "output_type": "execute_result"
    }
   ],
   "source": [
    "df.isnull().sum()"
   ]
  },
  {
   "cell_type": "raw",
   "id": "7fa8b6eb",
   "metadata": {},
   "source": [
    "il y n'a pas des valeurs nulles, alors on n'a pas besoin de faire le traitement des valeurs nulles. "
   ]
  },
  {
   "cell_type": "markdown",
   "id": "e2d6fde2",
   "metadata": {},
   "source": [
    "# description du dataset"
   ]
  },
  {
   "cell_type": "code",
   "execution_count": 8,
   "id": "8521d835",
   "metadata": {
    "scrolled": true
   },
   "outputs": [
    {
     "data": {
      "text/html": [
       "<div>\n",
       "<style scoped>\n",
       "    .dataframe tbody tr th:only-of-type {\n",
       "        vertical-align: middle;\n",
       "    }\n",
       "\n",
       "    .dataframe tbody tr th {\n",
       "        vertical-align: top;\n",
       "    }\n",
       "\n",
       "    .dataframe thead th {\n",
       "        text-align: right;\n",
       "    }\n",
       "</style>\n",
       "<table border=\"1\" class=\"dataframe\">\n",
       "  <thead>\n",
       "    <tr style=\"text-align: right;\">\n",
       "      <th></th>\n",
       "      <th>Car_Name</th>\n",
       "      <th>Year</th>\n",
       "      <th>Selling_Price</th>\n",
       "      <th>Present_Price</th>\n",
       "      <th>Kms_Driven</th>\n",
       "      <th>Fuel_Type</th>\n",
       "      <th>Seller_Type</th>\n",
       "      <th>Transmission</th>\n",
       "      <th>Owner</th>\n",
       "    </tr>\n",
       "  </thead>\n",
       "  <tbody>\n",
       "    <tr>\n",
       "      <th>count</th>\n",
       "      <td>1207</td>\n",
       "      <td>1207</td>\n",
       "      <td>1207</td>\n",
       "      <td>1207</td>\n",
       "      <td>1207</td>\n",
       "      <td>1207</td>\n",
       "      <td>1207</td>\n",
       "      <td>1207</td>\n",
       "      <td>1207</td>\n",
       "    </tr>\n",
       "    <tr>\n",
       "      <th>unique</th>\n",
       "      <td>99</td>\n",
       "      <td>17</td>\n",
       "      <td>157</td>\n",
       "      <td>148</td>\n",
       "      <td>207</td>\n",
       "      <td>4</td>\n",
       "      <td>3</td>\n",
       "      <td>3</td>\n",
       "      <td>4</td>\n",
       "    </tr>\n",
       "    <tr>\n",
       "      <th>top</th>\n",
       "      <td>city</td>\n",
       "      <td>2015</td>\n",
       "      <td>0.6</td>\n",
       "      <td>9.4</td>\n",
       "      <td>45000</td>\n",
       "      <td>Petrol</td>\n",
       "      <td>Dealer</td>\n",
       "      <td>Manual</td>\n",
       "      <td>0</td>\n",
       "    </tr>\n",
       "    <tr>\n",
       "      <th>freq</th>\n",
       "      <td>104</td>\n",
       "      <td>244</td>\n",
       "      <td>32</td>\n",
       "      <td>60</td>\n",
       "      <td>36</td>\n",
       "      <td>956</td>\n",
       "      <td>780</td>\n",
       "      <td>1044</td>\n",
       "      <td>1160</td>\n",
       "    </tr>\n",
       "  </tbody>\n",
       "</table>\n",
       "</div>"
      ],
      "text/plain": [
       "       Car_Name  Year Selling_Price Present_Price Kms_Driven Fuel_Type  \\\n",
       "count      1207  1207          1207          1207       1207      1207   \n",
       "unique       99    17           157           148        207         4   \n",
       "top        city  2015           0.6           9.4      45000    Petrol   \n",
       "freq        104   244            32            60         36       956   \n",
       "\n",
       "       Seller_Type Transmission Owner  \n",
       "count         1207         1207  1207  \n",
       "unique           3            3     4  \n",
       "top         Dealer       Manual     0  \n",
       "freq           780         1044  1160  "
      ]
     },
     "execution_count": 8,
     "metadata": {},
     "output_type": "execute_result"
    }
   ],
   "source": [
    "df.describe(include = 'all')"
   ]
  },
  {
   "cell_type": "code",
   "execution_count": 9,
   "id": "8465b88e",
   "metadata": {},
   "outputs": [],
   "source": [
    "final_dataset=df[['Year','Selling_Price','Present_Price','Kms_Driven','Fuel_Type','Seller_Type','Transmission','Owner']]"
   ]
  },
  {
   "cell_type": "code",
   "execution_count": 10,
   "id": "e3e78eb1",
   "metadata": {},
   "outputs": [
    {
     "data": {
      "text/html": [
       "<div>\n",
       "<style scoped>\n",
       "    .dataframe tbody tr th:only-of-type {\n",
       "        vertical-align: middle;\n",
       "    }\n",
       "\n",
       "    .dataframe tbody tr th {\n",
       "        vertical-align: top;\n",
       "    }\n",
       "\n",
       "    .dataframe thead th {\n",
       "        text-align: right;\n",
       "    }\n",
       "</style>\n",
       "<table border=\"1\" class=\"dataframe\">\n",
       "  <thead>\n",
       "    <tr style=\"text-align: right;\">\n",
       "      <th></th>\n",
       "      <th>Year</th>\n",
       "      <th>Selling_Price</th>\n",
       "      <th>Present_Price</th>\n",
       "      <th>Kms_Driven</th>\n",
       "      <th>Fuel_Type</th>\n",
       "      <th>Seller_Type</th>\n",
       "      <th>Transmission</th>\n",
       "      <th>Owner</th>\n",
       "    </tr>\n",
       "  </thead>\n",
       "  <tbody>\n",
       "    <tr>\n",
       "      <th>0</th>\n",
       "      <td>2014</td>\n",
       "      <td>3.35</td>\n",
       "      <td>5.59</td>\n",
       "      <td>27000</td>\n",
       "      <td>Petrol</td>\n",
       "      <td>Dealer</td>\n",
       "      <td>Manual</td>\n",
       "      <td>0</td>\n",
       "    </tr>\n",
       "    <tr>\n",
       "      <th>1</th>\n",
       "      <td>2013</td>\n",
       "      <td>4.75</td>\n",
       "      <td>9.54</td>\n",
       "      <td>43000</td>\n",
       "      <td>Diesel</td>\n",
       "      <td>Dealer</td>\n",
       "      <td>Manual</td>\n",
       "      <td>0</td>\n",
       "    </tr>\n",
       "    <tr>\n",
       "      <th>2</th>\n",
       "      <td>2017</td>\n",
       "      <td>7.25</td>\n",
       "      <td>9.85</td>\n",
       "      <td>6900</td>\n",
       "      <td>Petrol</td>\n",
       "      <td>Dealer</td>\n",
       "      <td>Manual</td>\n",
       "      <td>0</td>\n",
       "    </tr>\n",
       "    <tr>\n",
       "      <th>3</th>\n",
       "      <td>2011</td>\n",
       "      <td>2.85</td>\n",
       "      <td>4.15</td>\n",
       "      <td>5200</td>\n",
       "      <td>Petrol</td>\n",
       "      <td>Dealer</td>\n",
       "      <td>Manual</td>\n",
       "      <td>0</td>\n",
       "    </tr>\n",
       "    <tr>\n",
       "      <th>4</th>\n",
       "      <td>2014</td>\n",
       "      <td>4.6</td>\n",
       "      <td>6.87</td>\n",
       "      <td>42450</td>\n",
       "      <td>Diesel</td>\n",
       "      <td>Dealer</td>\n",
       "      <td>Manual</td>\n",
       "      <td>0</td>\n",
       "    </tr>\n",
       "  </tbody>\n",
       "</table>\n",
       "</div>"
      ],
      "text/plain": [
       "   Year Selling_Price Present_Price Kms_Driven Fuel_Type Seller_Type  \\\n",
       "0  2014          3.35          5.59      27000    Petrol      Dealer   \n",
       "1  2013          4.75          9.54      43000    Diesel      Dealer   \n",
       "2  2017          7.25          9.85       6900    Petrol      Dealer   \n",
       "3  2011          2.85          4.15       5200    Petrol      Dealer   \n",
       "4  2014           4.6          6.87      42450    Diesel      Dealer   \n",
       "\n",
       "  Transmission Owner  \n",
       "0       Manual     0  \n",
       "1       Manual     0  \n",
       "2       Manual     0  \n",
       "3       Manual     0  \n",
       "4       Manual     0  "
      ]
     },
     "execution_count": 10,
     "metadata": {},
     "output_type": "execute_result"
    }
   ],
   "source": [
    "final_dataset.head()"
   ]
  },
  {
   "cell_type": "markdown",
   "id": "17b50978",
   "metadata": {},
   "source": [
    "# suppression des collonnes current year et year "
   ]
  },
  {
   "cell_type": "code",
   "execution_count": 11,
   "id": "8e2708b0",
   "metadata": {},
   "outputs": [],
   "source": [
    "final_dataset['Current Year']=2022"
   ]
  },
  {
   "cell_type": "code",
   "execution_count": 12,
   "id": "8422bc77",
   "metadata": {},
   "outputs": [
    {
     "data": {
      "text/html": [
       "<div>\n",
       "<style scoped>\n",
       "    .dataframe tbody tr th:only-of-type {\n",
       "        vertical-align: middle;\n",
       "    }\n",
       "\n",
       "    .dataframe tbody tr th {\n",
       "        vertical-align: top;\n",
       "    }\n",
       "\n",
       "    .dataframe thead th {\n",
       "        text-align: right;\n",
       "    }\n",
       "</style>\n",
       "<table border=\"1\" class=\"dataframe\">\n",
       "  <thead>\n",
       "    <tr style=\"text-align: right;\">\n",
       "      <th></th>\n",
       "      <th>Year</th>\n",
       "      <th>Selling_Price</th>\n",
       "      <th>Present_Price</th>\n",
       "      <th>Kms_Driven</th>\n",
       "      <th>Fuel_Type</th>\n",
       "      <th>Seller_Type</th>\n",
       "      <th>Transmission</th>\n",
       "      <th>Owner</th>\n",
       "      <th>Current Year</th>\n",
       "    </tr>\n",
       "  </thead>\n",
       "  <tbody>\n",
       "    <tr>\n",
       "      <th>0</th>\n",
       "      <td>2014</td>\n",
       "      <td>3.35</td>\n",
       "      <td>5.59</td>\n",
       "      <td>27000</td>\n",
       "      <td>Petrol</td>\n",
       "      <td>Dealer</td>\n",
       "      <td>Manual</td>\n",
       "      <td>0</td>\n",
       "      <td>2022</td>\n",
       "    </tr>\n",
       "    <tr>\n",
       "      <th>1</th>\n",
       "      <td>2013</td>\n",
       "      <td>4.75</td>\n",
       "      <td>9.54</td>\n",
       "      <td>43000</td>\n",
       "      <td>Diesel</td>\n",
       "      <td>Dealer</td>\n",
       "      <td>Manual</td>\n",
       "      <td>0</td>\n",
       "      <td>2022</td>\n",
       "    </tr>\n",
       "    <tr>\n",
       "      <th>2</th>\n",
       "      <td>2017</td>\n",
       "      <td>7.25</td>\n",
       "      <td>9.85</td>\n",
       "      <td>6900</td>\n",
       "      <td>Petrol</td>\n",
       "      <td>Dealer</td>\n",
       "      <td>Manual</td>\n",
       "      <td>0</td>\n",
       "      <td>2022</td>\n",
       "    </tr>\n",
       "    <tr>\n",
       "      <th>3</th>\n",
       "      <td>2011</td>\n",
       "      <td>2.85</td>\n",
       "      <td>4.15</td>\n",
       "      <td>5200</td>\n",
       "      <td>Petrol</td>\n",
       "      <td>Dealer</td>\n",
       "      <td>Manual</td>\n",
       "      <td>0</td>\n",
       "      <td>2022</td>\n",
       "    </tr>\n",
       "    <tr>\n",
       "      <th>4</th>\n",
       "      <td>2014</td>\n",
       "      <td>4.6</td>\n",
       "      <td>6.87</td>\n",
       "      <td>42450</td>\n",
       "      <td>Diesel</td>\n",
       "      <td>Dealer</td>\n",
       "      <td>Manual</td>\n",
       "      <td>0</td>\n",
       "      <td>2022</td>\n",
       "    </tr>\n",
       "  </tbody>\n",
       "</table>\n",
       "</div>"
      ],
      "text/plain": [
       "   Year Selling_Price Present_Price Kms_Driven Fuel_Type Seller_Type  \\\n",
       "0  2014          3.35          5.59      27000    Petrol      Dealer   \n",
       "1  2013          4.75          9.54      43000    Diesel      Dealer   \n",
       "2  2017          7.25          9.85       6900    Petrol      Dealer   \n",
       "3  2011          2.85          4.15       5200    Petrol      Dealer   \n",
       "4  2014           4.6          6.87      42450    Diesel      Dealer   \n",
       "\n",
       "  Transmission Owner  Current Year  \n",
       "0       Manual     0          2022  \n",
       "1       Manual     0          2022  \n",
       "2       Manual     0          2022  \n",
       "3       Manual     0          2022  \n",
       "4       Manual     0          2022  "
      ]
     },
     "execution_count": 12,
     "metadata": {},
     "output_type": "execute_result"
    }
   ],
   "source": [
    "final_dataset.head()"
   ]
  },
  {
   "cell_type": "code",
   "execution_count": 13,
   "id": "997bb477",
   "metadata": {},
   "outputs": [
    {
     "ename": "TypeError",
     "evalue": "unsupported operand type(s) for -: 'int' and 'str'",
     "output_type": "error",
     "traceback": [
      "\u001b[1;31m---------------------------------------------------------------------------\u001b[0m",
      "\u001b[1;31mTypeError\u001b[0m                                 Traceback (most recent call last)",
      "\u001b[1;32m~\\anaconda3\\lib\\site-packages\\pandas\\core\\ops\\array_ops.py\u001b[0m in \u001b[0;36m_na_arithmetic_op\u001b[1;34m(left, right, op, is_cmp)\u001b[0m\n\u001b[0;32m    165\u001b[0m     \u001b[1;32mtry\u001b[0m\u001b[1;33m:\u001b[0m\u001b[1;33m\u001b[0m\u001b[1;33m\u001b[0m\u001b[0m\n\u001b[1;32m--> 166\u001b[1;33m         \u001b[0mresult\u001b[0m \u001b[1;33m=\u001b[0m \u001b[0mfunc\u001b[0m\u001b[1;33m(\u001b[0m\u001b[0mleft\u001b[0m\u001b[1;33m,\u001b[0m \u001b[0mright\u001b[0m\u001b[1;33m)\u001b[0m\u001b[1;33m\u001b[0m\u001b[1;33m\u001b[0m\u001b[0m\n\u001b[0m\u001b[0;32m    167\u001b[0m     \u001b[1;32mexcept\u001b[0m \u001b[0mTypeError\u001b[0m\u001b[1;33m:\u001b[0m\u001b[1;33m\u001b[0m\u001b[1;33m\u001b[0m\u001b[0m\n",
      "\u001b[1;32m~\\anaconda3\\lib\\site-packages\\pandas\\core\\computation\\expressions.py\u001b[0m in \u001b[0;36mevaluate\u001b[1;34m(op, a, b, use_numexpr)\u001b[0m\n\u001b[0;32m    238\u001b[0m             \u001b[1;31m# error: \"None\" not callable\u001b[0m\u001b[1;33m\u001b[0m\u001b[1;33m\u001b[0m\u001b[0m\n\u001b[1;32m--> 239\u001b[1;33m             \u001b[1;32mreturn\u001b[0m \u001b[0m_evaluate\u001b[0m\u001b[1;33m(\u001b[0m\u001b[0mop\u001b[0m\u001b[1;33m,\u001b[0m \u001b[0mop_str\u001b[0m\u001b[1;33m,\u001b[0m \u001b[0ma\u001b[0m\u001b[1;33m,\u001b[0m \u001b[0mb\u001b[0m\u001b[1;33m)\u001b[0m  \u001b[1;31m# type: ignore[misc]\u001b[0m\u001b[1;33m\u001b[0m\u001b[1;33m\u001b[0m\u001b[0m\n\u001b[0m\u001b[0;32m    240\u001b[0m     \u001b[1;32mreturn\u001b[0m \u001b[0m_evaluate_standard\u001b[0m\u001b[1;33m(\u001b[0m\u001b[0mop\u001b[0m\u001b[1;33m,\u001b[0m \u001b[0mop_str\u001b[0m\u001b[1;33m,\u001b[0m \u001b[0ma\u001b[0m\u001b[1;33m,\u001b[0m \u001b[0mb\u001b[0m\u001b[1;33m)\u001b[0m\u001b[1;33m\u001b[0m\u001b[1;33m\u001b[0m\u001b[0m\n",
      "\u001b[1;32m~\\anaconda3\\lib\\site-packages\\pandas\\core\\computation\\expressions.py\u001b[0m in \u001b[0;36m_evaluate_numexpr\u001b[1;34m(op, op_str, a, b)\u001b[0m\n\u001b[0;32m    127\u001b[0m     \u001b[1;32mif\u001b[0m \u001b[0mresult\u001b[0m \u001b[1;32mis\u001b[0m \u001b[1;32mNone\u001b[0m\u001b[1;33m:\u001b[0m\u001b[1;33m\u001b[0m\u001b[1;33m\u001b[0m\u001b[0m\n\u001b[1;32m--> 128\u001b[1;33m         \u001b[0mresult\u001b[0m \u001b[1;33m=\u001b[0m \u001b[0m_evaluate_standard\u001b[0m\u001b[1;33m(\u001b[0m\u001b[0mop\u001b[0m\u001b[1;33m,\u001b[0m \u001b[0mop_str\u001b[0m\u001b[1;33m,\u001b[0m \u001b[0ma\u001b[0m\u001b[1;33m,\u001b[0m \u001b[0mb\u001b[0m\u001b[1;33m)\u001b[0m\u001b[1;33m\u001b[0m\u001b[1;33m\u001b[0m\u001b[0m\n\u001b[0m\u001b[0;32m    129\u001b[0m \u001b[1;33m\u001b[0m\u001b[0m\n",
      "\u001b[1;32m~\\anaconda3\\lib\\site-packages\\pandas\\core\\computation\\expressions.py\u001b[0m in \u001b[0;36m_evaluate_standard\u001b[1;34m(op, op_str, a, b)\u001b[0m\n\u001b[0;32m     68\u001b[0m         \u001b[0m_store_test_result\u001b[0m\u001b[1;33m(\u001b[0m\u001b[1;32mFalse\u001b[0m\u001b[1;33m)\u001b[0m\u001b[1;33m\u001b[0m\u001b[1;33m\u001b[0m\u001b[0m\n\u001b[1;32m---> 69\u001b[1;33m     \u001b[1;32mreturn\u001b[0m \u001b[0mop\u001b[0m\u001b[1;33m(\u001b[0m\u001b[0ma\u001b[0m\u001b[1;33m,\u001b[0m \u001b[0mb\u001b[0m\u001b[1;33m)\u001b[0m\u001b[1;33m\u001b[0m\u001b[1;33m\u001b[0m\u001b[0m\n\u001b[0m\u001b[0;32m     70\u001b[0m \u001b[1;33m\u001b[0m\u001b[0m\n",
      "\u001b[1;31mTypeError\u001b[0m: unsupported operand type(s) for -: 'int' and 'str'",
      "\nDuring handling of the above exception, another exception occurred:\n",
      "\u001b[1;31mTypeError\u001b[0m                                 Traceback (most recent call last)",
      "\u001b[1;32m~\\AppData\\Local\\Temp/ipykernel_15312/1948897265.py\u001b[0m in \u001b[0;36m<module>\u001b[1;34m\u001b[0m\n\u001b[1;32m----> 1\u001b[1;33m \u001b[0mfinal_dataset\u001b[0m\u001b[1;33m[\u001b[0m\u001b[1;34m'duration of use'\u001b[0m\u001b[1;33m]\u001b[0m\u001b[1;33m=\u001b[0m\u001b[0mfinal_dataset\u001b[0m\u001b[1;33m[\u001b[0m\u001b[1;34m'Current Year'\u001b[0m\u001b[1;33m]\u001b[0m\u001b[1;33m-\u001b[0m \u001b[0mfinal_dataset\u001b[0m\u001b[1;33m[\u001b[0m\u001b[1;34m'Year'\u001b[0m\u001b[1;33m]\u001b[0m\u001b[1;33m\u001b[0m\u001b[1;33m\u001b[0m\u001b[0m\n\u001b[0m",
      "\u001b[1;32m~\\anaconda3\\lib\\site-packages\\pandas\\core\\ops\\common.py\u001b[0m in \u001b[0;36mnew_method\u001b[1;34m(self, other)\u001b[0m\n\u001b[0;32m     67\u001b[0m         \u001b[0mother\u001b[0m \u001b[1;33m=\u001b[0m \u001b[0mitem_from_zerodim\u001b[0m\u001b[1;33m(\u001b[0m\u001b[0mother\u001b[0m\u001b[1;33m)\u001b[0m\u001b[1;33m\u001b[0m\u001b[1;33m\u001b[0m\u001b[0m\n\u001b[0;32m     68\u001b[0m \u001b[1;33m\u001b[0m\u001b[0m\n\u001b[1;32m---> 69\u001b[1;33m         \u001b[1;32mreturn\u001b[0m \u001b[0mmethod\u001b[0m\u001b[1;33m(\u001b[0m\u001b[0mself\u001b[0m\u001b[1;33m,\u001b[0m \u001b[0mother\u001b[0m\u001b[1;33m)\u001b[0m\u001b[1;33m\u001b[0m\u001b[1;33m\u001b[0m\u001b[0m\n\u001b[0m\u001b[0;32m     70\u001b[0m \u001b[1;33m\u001b[0m\u001b[0m\n\u001b[0;32m     71\u001b[0m     \u001b[1;32mreturn\u001b[0m \u001b[0mnew_method\u001b[0m\u001b[1;33m\u001b[0m\u001b[1;33m\u001b[0m\u001b[0m\n",
      "\u001b[1;32m~\\anaconda3\\lib\\site-packages\\pandas\\core\\arraylike.py\u001b[0m in \u001b[0;36m__sub__\u001b[1;34m(self, other)\u001b[0m\n\u001b[0;32m     98\u001b[0m     \u001b[1;33m@\u001b[0m\u001b[0munpack_zerodim_and_defer\u001b[0m\u001b[1;33m(\u001b[0m\u001b[1;34m\"__sub__\"\u001b[0m\u001b[1;33m)\u001b[0m\u001b[1;33m\u001b[0m\u001b[1;33m\u001b[0m\u001b[0m\n\u001b[0;32m     99\u001b[0m     \u001b[1;32mdef\u001b[0m \u001b[0m__sub__\u001b[0m\u001b[1;33m(\u001b[0m\u001b[0mself\u001b[0m\u001b[1;33m,\u001b[0m \u001b[0mother\u001b[0m\u001b[1;33m)\u001b[0m\u001b[1;33m:\u001b[0m\u001b[1;33m\u001b[0m\u001b[1;33m\u001b[0m\u001b[0m\n\u001b[1;32m--> 100\u001b[1;33m         \u001b[1;32mreturn\u001b[0m \u001b[0mself\u001b[0m\u001b[1;33m.\u001b[0m\u001b[0m_arith_method\u001b[0m\u001b[1;33m(\u001b[0m\u001b[0mother\u001b[0m\u001b[1;33m,\u001b[0m \u001b[0moperator\u001b[0m\u001b[1;33m.\u001b[0m\u001b[0msub\u001b[0m\u001b[1;33m)\u001b[0m\u001b[1;33m\u001b[0m\u001b[1;33m\u001b[0m\u001b[0m\n\u001b[0m\u001b[0;32m    101\u001b[0m \u001b[1;33m\u001b[0m\u001b[0m\n\u001b[0;32m    102\u001b[0m     \u001b[1;33m@\u001b[0m\u001b[0munpack_zerodim_and_defer\u001b[0m\u001b[1;33m(\u001b[0m\u001b[1;34m\"__rsub__\"\u001b[0m\u001b[1;33m)\u001b[0m\u001b[1;33m\u001b[0m\u001b[1;33m\u001b[0m\u001b[0m\n",
      "\u001b[1;32m~\\anaconda3\\lib\\site-packages\\pandas\\core\\series.py\u001b[0m in \u001b[0;36m_arith_method\u001b[1;34m(self, other, op)\u001b[0m\n\u001b[0;32m   5524\u001b[0m \u001b[1;33m\u001b[0m\u001b[0m\n\u001b[0;32m   5525\u001b[0m         \u001b[1;32mwith\u001b[0m \u001b[0mnp\u001b[0m\u001b[1;33m.\u001b[0m\u001b[0merrstate\u001b[0m\u001b[1;33m(\u001b[0m\u001b[0mall\u001b[0m\u001b[1;33m=\u001b[0m\u001b[1;34m\"ignore\"\u001b[0m\u001b[1;33m)\u001b[0m\u001b[1;33m:\u001b[0m\u001b[1;33m\u001b[0m\u001b[1;33m\u001b[0m\u001b[0m\n\u001b[1;32m-> 5526\u001b[1;33m             \u001b[0mresult\u001b[0m \u001b[1;33m=\u001b[0m \u001b[0mops\u001b[0m\u001b[1;33m.\u001b[0m\u001b[0marithmetic_op\u001b[0m\u001b[1;33m(\u001b[0m\u001b[0mlvalues\u001b[0m\u001b[1;33m,\u001b[0m \u001b[0mrvalues\u001b[0m\u001b[1;33m,\u001b[0m \u001b[0mop\u001b[0m\u001b[1;33m)\u001b[0m\u001b[1;33m\u001b[0m\u001b[1;33m\u001b[0m\u001b[0m\n\u001b[0m\u001b[0;32m   5527\u001b[0m \u001b[1;33m\u001b[0m\u001b[0m\n\u001b[0;32m   5528\u001b[0m         \u001b[1;32mreturn\u001b[0m \u001b[0mself\u001b[0m\u001b[1;33m.\u001b[0m\u001b[0m_construct_result\u001b[0m\u001b[1;33m(\u001b[0m\u001b[0mresult\u001b[0m\u001b[1;33m,\u001b[0m \u001b[0mname\u001b[0m\u001b[1;33m=\u001b[0m\u001b[0mres_name\u001b[0m\u001b[1;33m)\u001b[0m\u001b[1;33m\u001b[0m\u001b[1;33m\u001b[0m\u001b[0m\n",
      "\u001b[1;32m~\\anaconda3\\lib\\site-packages\\pandas\\core\\ops\\array_ops.py\u001b[0m in \u001b[0;36marithmetic_op\u001b[1;34m(left, right, op)\u001b[0m\n\u001b[0;32m    222\u001b[0m         \u001b[0m_bool_arith_check\u001b[0m\u001b[1;33m(\u001b[0m\u001b[0mop\u001b[0m\u001b[1;33m,\u001b[0m \u001b[0mleft\u001b[0m\u001b[1;33m,\u001b[0m \u001b[0mright\u001b[0m\u001b[1;33m)\u001b[0m\u001b[1;33m\u001b[0m\u001b[1;33m\u001b[0m\u001b[0m\n\u001b[0;32m    223\u001b[0m \u001b[1;33m\u001b[0m\u001b[0m\n\u001b[1;32m--> 224\u001b[1;33m         \u001b[0mres_values\u001b[0m \u001b[1;33m=\u001b[0m \u001b[0m_na_arithmetic_op\u001b[0m\u001b[1;33m(\u001b[0m\u001b[0mleft\u001b[0m\u001b[1;33m,\u001b[0m \u001b[0mright\u001b[0m\u001b[1;33m,\u001b[0m \u001b[0mop\u001b[0m\u001b[1;33m)\u001b[0m\u001b[1;33m\u001b[0m\u001b[1;33m\u001b[0m\u001b[0m\n\u001b[0m\u001b[0;32m    225\u001b[0m \u001b[1;33m\u001b[0m\u001b[0m\n\u001b[0;32m    226\u001b[0m     \u001b[1;32mreturn\u001b[0m \u001b[0mres_values\u001b[0m\u001b[1;33m\u001b[0m\u001b[1;33m\u001b[0m\u001b[0m\n",
      "\u001b[1;32m~\\anaconda3\\lib\\site-packages\\pandas\\core\\ops\\array_ops.py\u001b[0m in \u001b[0;36m_na_arithmetic_op\u001b[1;34m(left, right, op, is_cmp)\u001b[0m\n\u001b[0;32m    171\u001b[0m             \u001b[1;31m# Don't do this for comparisons, as that will handle complex numbers\u001b[0m\u001b[1;33m\u001b[0m\u001b[1;33m\u001b[0m\u001b[0m\n\u001b[0;32m    172\u001b[0m             \u001b[1;31m#  incorrectly, see GH#32047\u001b[0m\u001b[1;33m\u001b[0m\u001b[1;33m\u001b[0m\u001b[0m\n\u001b[1;32m--> 173\u001b[1;33m             \u001b[0mresult\u001b[0m \u001b[1;33m=\u001b[0m \u001b[0m_masked_arith_op\u001b[0m\u001b[1;33m(\u001b[0m\u001b[0mleft\u001b[0m\u001b[1;33m,\u001b[0m \u001b[0mright\u001b[0m\u001b[1;33m,\u001b[0m \u001b[0mop\u001b[0m\u001b[1;33m)\u001b[0m\u001b[1;33m\u001b[0m\u001b[1;33m\u001b[0m\u001b[0m\n\u001b[0m\u001b[0;32m    174\u001b[0m         \u001b[1;32melse\u001b[0m\u001b[1;33m:\u001b[0m\u001b[1;33m\u001b[0m\u001b[1;33m\u001b[0m\u001b[0m\n\u001b[0;32m    175\u001b[0m             \u001b[1;32mraise\u001b[0m\u001b[1;33m\u001b[0m\u001b[1;33m\u001b[0m\u001b[0m\n",
      "\u001b[1;32m~\\anaconda3\\lib\\site-packages\\pandas\\core\\ops\\array_ops.py\u001b[0m in \u001b[0;36m_masked_arith_op\u001b[1;34m(x, y, op)\u001b[0m\n\u001b[0;32m    110\u001b[0m         \u001b[1;31m# See GH#5284, GH#5035, GH#19448 for historical reference\u001b[0m\u001b[1;33m\u001b[0m\u001b[1;33m\u001b[0m\u001b[0m\n\u001b[0;32m    111\u001b[0m         \u001b[1;32mif\u001b[0m \u001b[0mmask\u001b[0m\u001b[1;33m.\u001b[0m\u001b[0many\u001b[0m\u001b[1;33m(\u001b[0m\u001b[1;33m)\u001b[0m\u001b[1;33m:\u001b[0m\u001b[1;33m\u001b[0m\u001b[1;33m\u001b[0m\u001b[0m\n\u001b[1;32m--> 112\u001b[1;33m             \u001b[0mresult\u001b[0m\u001b[1;33m[\u001b[0m\u001b[0mmask\u001b[0m\u001b[1;33m]\u001b[0m \u001b[1;33m=\u001b[0m \u001b[0mop\u001b[0m\u001b[1;33m(\u001b[0m\u001b[0mxrav\u001b[0m\u001b[1;33m[\u001b[0m\u001b[0mmask\u001b[0m\u001b[1;33m]\u001b[0m\u001b[1;33m,\u001b[0m \u001b[0myrav\u001b[0m\u001b[1;33m[\u001b[0m\u001b[0mmask\u001b[0m\u001b[1;33m]\u001b[0m\u001b[1;33m)\u001b[0m\u001b[1;33m\u001b[0m\u001b[1;33m\u001b[0m\u001b[0m\n\u001b[0m\u001b[0;32m    113\u001b[0m \u001b[1;33m\u001b[0m\u001b[0m\n\u001b[0;32m    114\u001b[0m     \u001b[1;32melse\u001b[0m\u001b[1;33m:\u001b[0m\u001b[1;33m\u001b[0m\u001b[1;33m\u001b[0m\u001b[0m\n",
      "\u001b[1;31mTypeError\u001b[0m: unsupported operand type(s) for -: 'int' and 'str'"
     ]
    }
   ],
   "source": [
    "final_dataset['duration of use']=final_dataset['Current Year']- final_dataset['Year']"
   ]
  },
  {
   "cell_type": "code",
   "execution_count": 14,
   "id": "8966d53c",
   "metadata": {},
   "outputs": [
    {
     "data": {
      "text/html": [
       "<div>\n",
       "<style scoped>\n",
       "    .dataframe tbody tr th:only-of-type {\n",
       "        vertical-align: middle;\n",
       "    }\n",
       "\n",
       "    .dataframe tbody tr th {\n",
       "        vertical-align: top;\n",
       "    }\n",
       "\n",
       "    .dataframe thead th {\n",
       "        text-align: right;\n",
       "    }\n",
       "</style>\n",
       "<table border=\"1\" class=\"dataframe\">\n",
       "  <thead>\n",
       "    <tr style=\"text-align: right;\">\n",
       "      <th></th>\n",
       "      <th>Year</th>\n",
       "      <th>Selling_Price</th>\n",
       "      <th>Present_Price</th>\n",
       "      <th>Kms_Driven</th>\n",
       "      <th>Fuel_Type</th>\n",
       "      <th>Seller_Type</th>\n",
       "      <th>Transmission</th>\n",
       "      <th>Owner</th>\n",
       "      <th>Current Year</th>\n",
       "    </tr>\n",
       "  </thead>\n",
       "  <tbody>\n",
       "    <tr>\n",
       "      <th>0</th>\n",
       "      <td>2014</td>\n",
       "      <td>3.35</td>\n",
       "      <td>5.59</td>\n",
       "      <td>27000</td>\n",
       "      <td>Petrol</td>\n",
       "      <td>Dealer</td>\n",
       "      <td>Manual</td>\n",
       "      <td>0</td>\n",
       "      <td>2022</td>\n",
       "    </tr>\n",
       "    <tr>\n",
       "      <th>1</th>\n",
       "      <td>2013</td>\n",
       "      <td>4.75</td>\n",
       "      <td>9.54</td>\n",
       "      <td>43000</td>\n",
       "      <td>Diesel</td>\n",
       "      <td>Dealer</td>\n",
       "      <td>Manual</td>\n",
       "      <td>0</td>\n",
       "      <td>2022</td>\n",
       "    </tr>\n",
       "    <tr>\n",
       "      <th>2</th>\n",
       "      <td>2017</td>\n",
       "      <td>7.25</td>\n",
       "      <td>9.85</td>\n",
       "      <td>6900</td>\n",
       "      <td>Petrol</td>\n",
       "      <td>Dealer</td>\n",
       "      <td>Manual</td>\n",
       "      <td>0</td>\n",
       "      <td>2022</td>\n",
       "    </tr>\n",
       "    <tr>\n",
       "      <th>3</th>\n",
       "      <td>2011</td>\n",
       "      <td>2.85</td>\n",
       "      <td>4.15</td>\n",
       "      <td>5200</td>\n",
       "      <td>Petrol</td>\n",
       "      <td>Dealer</td>\n",
       "      <td>Manual</td>\n",
       "      <td>0</td>\n",
       "      <td>2022</td>\n",
       "    </tr>\n",
       "    <tr>\n",
       "      <th>4</th>\n",
       "      <td>2014</td>\n",
       "      <td>4.6</td>\n",
       "      <td>6.87</td>\n",
       "      <td>42450</td>\n",
       "      <td>Diesel</td>\n",
       "      <td>Dealer</td>\n",
       "      <td>Manual</td>\n",
       "      <td>0</td>\n",
       "      <td>2022</td>\n",
       "    </tr>\n",
       "  </tbody>\n",
       "</table>\n",
       "</div>"
      ],
      "text/plain": [
       "   Year Selling_Price Present_Price Kms_Driven Fuel_Type Seller_Type  \\\n",
       "0  2014          3.35          5.59      27000    Petrol      Dealer   \n",
       "1  2013          4.75          9.54      43000    Diesel      Dealer   \n",
       "2  2017          7.25          9.85       6900    Petrol      Dealer   \n",
       "3  2011          2.85          4.15       5200    Petrol      Dealer   \n",
       "4  2014           4.6          6.87      42450    Diesel      Dealer   \n",
       "\n",
       "  Transmission Owner  Current Year  \n",
       "0       Manual     0          2022  \n",
       "1       Manual     0          2022  \n",
       "2       Manual     0          2022  \n",
       "3       Manual     0          2022  \n",
       "4       Manual     0          2022  "
      ]
     },
     "execution_count": 14,
     "metadata": {},
     "output_type": "execute_result"
    }
   ],
   "source": [
    "final_dataset.head()"
   ]
  },
  {
   "cell_type": "code",
   "execution_count": 15,
   "id": "1a07e7d7",
   "metadata": {},
   "outputs": [],
   "source": [
    "final_dataset.drop(['Year'],axis=1,inplace=True)"
   ]
  },
  {
   "cell_type": "code",
   "execution_count": 16,
   "id": "1c2b654e",
   "metadata": {},
   "outputs": [],
   "source": [
    "final_dataset.drop(['Current Year'],axis=1,inplace=True)"
   ]
  },
  {
   "cell_type": "code",
   "execution_count": 17,
   "id": "a3136c4a",
   "metadata": {},
   "outputs": [
    {
     "data": {
      "text/html": [
       "<div>\n",
       "<style scoped>\n",
       "    .dataframe tbody tr th:only-of-type {\n",
       "        vertical-align: middle;\n",
       "    }\n",
       "\n",
       "    .dataframe tbody tr th {\n",
       "        vertical-align: top;\n",
       "    }\n",
       "\n",
       "    .dataframe thead th {\n",
       "        text-align: right;\n",
       "    }\n",
       "</style>\n",
       "<table border=\"1\" class=\"dataframe\">\n",
       "  <thead>\n",
       "    <tr style=\"text-align: right;\">\n",
       "      <th></th>\n",
       "      <th>Selling_Price</th>\n",
       "      <th>Present_Price</th>\n",
       "      <th>Kms_Driven</th>\n",
       "      <th>Fuel_Type</th>\n",
       "      <th>Seller_Type</th>\n",
       "      <th>Transmission</th>\n",
       "      <th>Owner</th>\n",
       "    </tr>\n",
       "  </thead>\n",
       "  <tbody>\n",
       "    <tr>\n",
       "      <th>0</th>\n",
       "      <td>3.35</td>\n",
       "      <td>5.59</td>\n",
       "      <td>27000</td>\n",
       "      <td>Petrol</td>\n",
       "      <td>Dealer</td>\n",
       "      <td>Manual</td>\n",
       "      <td>0</td>\n",
       "    </tr>\n",
       "    <tr>\n",
       "      <th>1</th>\n",
       "      <td>4.75</td>\n",
       "      <td>9.54</td>\n",
       "      <td>43000</td>\n",
       "      <td>Diesel</td>\n",
       "      <td>Dealer</td>\n",
       "      <td>Manual</td>\n",
       "      <td>0</td>\n",
       "    </tr>\n",
       "    <tr>\n",
       "      <th>2</th>\n",
       "      <td>7.25</td>\n",
       "      <td>9.85</td>\n",
       "      <td>6900</td>\n",
       "      <td>Petrol</td>\n",
       "      <td>Dealer</td>\n",
       "      <td>Manual</td>\n",
       "      <td>0</td>\n",
       "    </tr>\n",
       "    <tr>\n",
       "      <th>3</th>\n",
       "      <td>2.85</td>\n",
       "      <td>4.15</td>\n",
       "      <td>5200</td>\n",
       "      <td>Petrol</td>\n",
       "      <td>Dealer</td>\n",
       "      <td>Manual</td>\n",
       "      <td>0</td>\n",
       "    </tr>\n",
       "    <tr>\n",
       "      <th>4</th>\n",
       "      <td>4.6</td>\n",
       "      <td>6.87</td>\n",
       "      <td>42450</td>\n",
       "      <td>Diesel</td>\n",
       "      <td>Dealer</td>\n",
       "      <td>Manual</td>\n",
       "      <td>0</td>\n",
       "    </tr>\n",
       "  </tbody>\n",
       "</table>\n",
       "</div>"
      ],
      "text/plain": [
       "  Selling_Price Present_Price Kms_Driven Fuel_Type Seller_Type Transmission  \\\n",
       "0          3.35          5.59      27000    Petrol      Dealer       Manual   \n",
       "1          4.75          9.54      43000    Diesel      Dealer       Manual   \n",
       "2          7.25          9.85       6900    Petrol      Dealer       Manual   \n",
       "3          2.85          4.15       5200    Petrol      Dealer       Manual   \n",
       "4           4.6          6.87      42450    Diesel      Dealer       Manual   \n",
       "\n",
       "  Owner  \n",
       "0     0  \n",
       "1     0  \n",
       "2     0  \n",
       "3     0  \n",
       "4     0  "
      ]
     },
     "execution_count": 17,
     "metadata": {},
     "output_type": "execute_result"
    }
   ],
   "source": [
    "final_dataset.head()"
   ]
  },
  {
   "cell_type": "markdown",
   "id": "d121e16e",
   "metadata": {},
   "source": [
    "# encodage binaire"
   ]
  },
  {
   "cell_type": "code",
   "execution_count": 18,
   "id": "81a38c04",
   "metadata": {},
   "outputs": [],
   "source": [
    "final_dataset=pd.get_dummies(final_dataset,drop_first=True)"
   ]
  },
  {
   "cell_type": "code",
   "execution_count": 19,
   "id": "43dff6ac",
   "metadata": {},
   "outputs": [
    {
     "data": {
      "text/html": [
       "<div>\n",
       "<style scoped>\n",
       "    .dataframe tbody tr th:only-of-type {\n",
       "        vertical-align: middle;\n",
       "    }\n",
       "\n",
       "    .dataframe tbody tr th {\n",
       "        vertical-align: top;\n",
       "    }\n",
       "\n",
       "    .dataframe thead th {\n",
       "        text-align: right;\n",
       "    }\n",
       "</style>\n",
       "<table border=\"1\" class=\"dataframe\">\n",
       "  <thead>\n",
       "    <tr style=\"text-align: right;\">\n",
       "      <th></th>\n",
       "      <th>Selling_Price_0.12</th>\n",
       "      <th>Selling_Price_0.15</th>\n",
       "      <th>Selling_Price_0.16</th>\n",
       "      <th>Selling_Price_0.17</th>\n",
       "      <th>Selling_Price_0.18</th>\n",
       "      <th>Selling_Price_0.2</th>\n",
       "      <th>Selling_Price_0.25</th>\n",
       "      <th>Selling_Price_0.27</th>\n",
       "      <th>Selling_Price_0.3</th>\n",
       "      <th>Selling_Price_0.31</th>\n",
       "      <th>...</th>\n",
       "      <th>Fuel_Type_Diesel</th>\n",
       "      <th>Fuel_Type_Fuel_Type</th>\n",
       "      <th>Fuel_Type_Petrol</th>\n",
       "      <th>Seller_Type_Individual</th>\n",
       "      <th>Seller_Type_Seller_Type</th>\n",
       "      <th>Transmission_Manual</th>\n",
       "      <th>Transmission_Transmission</th>\n",
       "      <th>Owner_1</th>\n",
       "      <th>Owner_3</th>\n",
       "      <th>Owner_Owner</th>\n",
       "    </tr>\n",
       "  </thead>\n",
       "  <tbody>\n",
       "    <tr>\n",
       "      <th>0</th>\n",
       "      <td>0</td>\n",
       "      <td>0</td>\n",
       "      <td>0</td>\n",
       "      <td>0</td>\n",
       "      <td>0</td>\n",
       "      <td>0</td>\n",
       "      <td>0</td>\n",
       "      <td>0</td>\n",
       "      <td>0</td>\n",
       "      <td>0</td>\n",
       "      <td>...</td>\n",
       "      <td>0</td>\n",
       "      <td>0</td>\n",
       "      <td>1</td>\n",
       "      <td>0</td>\n",
       "      <td>0</td>\n",
       "      <td>1</td>\n",
       "      <td>0</td>\n",
       "      <td>0</td>\n",
       "      <td>0</td>\n",
       "      <td>0</td>\n",
       "    </tr>\n",
       "    <tr>\n",
       "      <th>1</th>\n",
       "      <td>0</td>\n",
       "      <td>0</td>\n",
       "      <td>0</td>\n",
       "      <td>0</td>\n",
       "      <td>0</td>\n",
       "      <td>0</td>\n",
       "      <td>0</td>\n",
       "      <td>0</td>\n",
       "      <td>0</td>\n",
       "      <td>0</td>\n",
       "      <td>...</td>\n",
       "      <td>1</td>\n",
       "      <td>0</td>\n",
       "      <td>0</td>\n",
       "      <td>0</td>\n",
       "      <td>0</td>\n",
       "      <td>1</td>\n",
       "      <td>0</td>\n",
       "      <td>0</td>\n",
       "      <td>0</td>\n",
       "      <td>0</td>\n",
       "    </tr>\n",
       "    <tr>\n",
       "      <th>2</th>\n",
       "      <td>0</td>\n",
       "      <td>0</td>\n",
       "      <td>0</td>\n",
       "      <td>0</td>\n",
       "      <td>0</td>\n",
       "      <td>0</td>\n",
       "      <td>0</td>\n",
       "      <td>0</td>\n",
       "      <td>0</td>\n",
       "      <td>0</td>\n",
       "      <td>...</td>\n",
       "      <td>0</td>\n",
       "      <td>0</td>\n",
       "      <td>1</td>\n",
       "      <td>0</td>\n",
       "      <td>0</td>\n",
       "      <td>1</td>\n",
       "      <td>0</td>\n",
       "      <td>0</td>\n",
       "      <td>0</td>\n",
       "      <td>0</td>\n",
       "    </tr>\n",
       "    <tr>\n",
       "      <th>3</th>\n",
       "      <td>0</td>\n",
       "      <td>0</td>\n",
       "      <td>0</td>\n",
       "      <td>0</td>\n",
       "      <td>0</td>\n",
       "      <td>0</td>\n",
       "      <td>0</td>\n",
       "      <td>0</td>\n",
       "      <td>0</td>\n",
       "      <td>0</td>\n",
       "      <td>...</td>\n",
       "      <td>0</td>\n",
       "      <td>0</td>\n",
       "      <td>1</td>\n",
       "      <td>0</td>\n",
       "      <td>0</td>\n",
       "      <td>1</td>\n",
       "      <td>0</td>\n",
       "      <td>0</td>\n",
       "      <td>0</td>\n",
       "      <td>0</td>\n",
       "    </tr>\n",
       "    <tr>\n",
       "      <th>4</th>\n",
       "      <td>0</td>\n",
       "      <td>0</td>\n",
       "      <td>0</td>\n",
       "      <td>0</td>\n",
       "      <td>0</td>\n",
       "      <td>0</td>\n",
       "      <td>0</td>\n",
       "      <td>0</td>\n",
       "      <td>0</td>\n",
       "      <td>0</td>\n",
       "      <td>...</td>\n",
       "      <td>1</td>\n",
       "      <td>0</td>\n",
       "      <td>0</td>\n",
       "      <td>0</td>\n",
       "      <td>0</td>\n",
       "      <td>1</td>\n",
       "      <td>0</td>\n",
       "      <td>0</td>\n",
       "      <td>0</td>\n",
       "      <td>0</td>\n",
       "    </tr>\n",
       "  </tbody>\n",
       "</table>\n",
       "<p>5 rows × 519 columns</p>\n",
       "</div>"
      ],
      "text/plain": [
       "   Selling_Price_0.12  Selling_Price_0.15  Selling_Price_0.16  \\\n",
       "0                   0                   0                   0   \n",
       "1                   0                   0                   0   \n",
       "2                   0                   0                   0   \n",
       "3                   0                   0                   0   \n",
       "4                   0                   0                   0   \n",
       "\n",
       "   Selling_Price_0.17  Selling_Price_0.18  Selling_Price_0.2  \\\n",
       "0                   0                   0                  0   \n",
       "1                   0                   0                  0   \n",
       "2                   0                   0                  0   \n",
       "3                   0                   0                  0   \n",
       "4                   0                   0                  0   \n",
       "\n",
       "   Selling_Price_0.25  Selling_Price_0.27  Selling_Price_0.3  \\\n",
       "0                   0                   0                  0   \n",
       "1                   0                   0                  0   \n",
       "2                   0                   0                  0   \n",
       "3                   0                   0                  0   \n",
       "4                   0                   0                  0   \n",
       "\n",
       "   Selling_Price_0.31  ...  Fuel_Type_Diesel  Fuel_Type_Fuel_Type  \\\n",
       "0                   0  ...                 0                    0   \n",
       "1                   0  ...                 1                    0   \n",
       "2                   0  ...                 0                    0   \n",
       "3                   0  ...                 0                    0   \n",
       "4                   0  ...                 1                    0   \n",
       "\n",
       "   Fuel_Type_Petrol  Seller_Type_Individual  Seller_Type_Seller_Type  \\\n",
       "0                 1                       0                        0   \n",
       "1                 0                       0                        0   \n",
       "2                 1                       0                        0   \n",
       "3                 1                       0                        0   \n",
       "4                 0                       0                        0   \n",
       "\n",
       "   Transmission_Manual  Transmission_Transmission  Owner_1  Owner_3  \\\n",
       "0                    1                          0        0        0   \n",
       "1                    1                          0        0        0   \n",
       "2                    1                          0        0        0   \n",
       "3                    1                          0        0        0   \n",
       "4                    1                          0        0        0   \n",
       "\n",
       "   Owner_Owner  \n",
       "0            0  \n",
       "1            0  \n",
       "2            0  \n",
       "3            0  \n",
       "4            0  \n",
       "\n",
       "[5 rows x 519 columns]"
      ]
     },
     "execution_count": 19,
     "metadata": {},
     "output_type": "execute_result"
    }
   ],
   "source": [
    "final_dataset.head()"
   ]
  },
  {
   "cell_type": "markdown",
   "id": "30015653",
   "metadata": {},
   "source": [
    "# correlation"
   ]
  },
  {
   "cell_type": "code",
   "execution_count": 21,
   "id": "9f88dee5",
   "metadata": {},
   "outputs": [
    {
     "data": {
      "text/html": [
       "<div>\n",
       "<style scoped>\n",
       "    .dataframe tbody tr th:only-of-type {\n",
       "        vertical-align: middle;\n",
       "    }\n",
       "\n",
       "    .dataframe tbody tr th {\n",
       "        vertical-align: top;\n",
       "    }\n",
       "\n",
       "    .dataframe thead th {\n",
       "        text-align: right;\n",
       "    }\n",
       "</style>\n",
       "<table border=\"1\" class=\"dataframe\">\n",
       "  <thead>\n",
       "    <tr style=\"text-align: right;\">\n",
       "      <th></th>\n",
       "      <th>Selling_Price_0.12</th>\n",
       "      <th>Selling_Price_0.15</th>\n",
       "      <th>Selling_Price_0.16</th>\n",
       "      <th>Selling_Price_0.17</th>\n",
       "      <th>Selling_Price_0.18</th>\n",
       "      <th>Selling_Price_0.2</th>\n",
       "      <th>Selling_Price_0.25</th>\n",
       "      <th>Selling_Price_0.27</th>\n",
       "      <th>Selling_Price_0.3</th>\n",
       "      <th>Selling_Price_0.31</th>\n",
       "      <th>...</th>\n",
       "      <th>Fuel_Type_Diesel</th>\n",
       "      <th>Fuel_Type_Fuel_Type</th>\n",
       "      <th>Fuel_Type_Petrol</th>\n",
       "      <th>Seller_Type_Individual</th>\n",
       "      <th>Seller_Type_Seller_Type</th>\n",
       "      <th>Transmission_Manual</th>\n",
       "      <th>Transmission_Transmission</th>\n",
       "      <th>Owner_1</th>\n",
       "      <th>Owner_3</th>\n",
       "      <th>Owner_Owner</th>\n",
       "    </tr>\n",
       "  </thead>\n",
       "  <tbody>\n",
       "    <tr>\n",
       "      <th>Selling_Price_0.12</th>\n",
       "      <td>1.000000</td>\n",
       "      <td>-0.003325</td>\n",
       "      <td>-0.003325</td>\n",
       "      <td>-0.003325</td>\n",
       "      <td>-0.003325</td>\n",
       "      <td>-0.008213</td>\n",
       "      <td>-0.007485</td>\n",
       "      <td>-0.003325</td>\n",
       "      <td>-0.005778</td>\n",
       "      <td>-0.003325</td>\n",
       "      <td>...</td>\n",
       "      <td>-0.028727</td>\n",
       "      <td>-0.002878</td>\n",
       "      <td>0.029546</td>\n",
       "      <td>0.078360</td>\n",
       "      <td>-0.002878</td>\n",
       "      <td>0.022785</td>\n",
       "      <td>-0.002878</td>\n",
       "      <td>-0.010676</td>\n",
       "      <td>-0.003325</td>\n",
       "      <td>-0.002878</td>\n",
       "    </tr>\n",
       "    <tr>\n",
       "      <th>Selling_Price_0.15</th>\n",
       "      <td>-0.003325</td>\n",
       "      <td>1.000000</td>\n",
       "      <td>-0.003325</td>\n",
       "      <td>-0.003325</td>\n",
       "      <td>-0.003325</td>\n",
       "      <td>-0.008213</td>\n",
       "      <td>-0.007485</td>\n",
       "      <td>-0.003325</td>\n",
       "      <td>-0.005778</td>\n",
       "      <td>-0.003325</td>\n",
       "      <td>...</td>\n",
       "      <td>-0.028727</td>\n",
       "      <td>-0.002878</td>\n",
       "      <td>0.029546</td>\n",
       "      <td>0.078360</td>\n",
       "      <td>-0.002878</td>\n",
       "      <td>0.022785</td>\n",
       "      <td>-0.002878</td>\n",
       "      <td>0.311460</td>\n",
       "      <td>-0.003325</td>\n",
       "      <td>-0.002878</td>\n",
       "    </tr>\n",
       "    <tr>\n",
       "      <th>Selling_Price_0.16</th>\n",
       "      <td>-0.003325</td>\n",
       "      <td>-0.003325</td>\n",
       "      <td>1.000000</td>\n",
       "      <td>-0.003325</td>\n",
       "      <td>-0.003325</td>\n",
       "      <td>-0.008213</td>\n",
       "      <td>-0.007485</td>\n",
       "      <td>-0.003325</td>\n",
       "      <td>-0.005778</td>\n",
       "      <td>-0.003325</td>\n",
       "      <td>...</td>\n",
       "      <td>-0.028727</td>\n",
       "      <td>-0.002878</td>\n",
       "      <td>0.029546</td>\n",
       "      <td>0.078360</td>\n",
       "      <td>-0.002878</td>\n",
       "      <td>0.022785</td>\n",
       "      <td>-0.002878</td>\n",
       "      <td>-0.010676</td>\n",
       "      <td>-0.003325</td>\n",
       "      <td>-0.002878</td>\n",
       "    </tr>\n",
       "    <tr>\n",
       "      <th>Selling_Price_0.17</th>\n",
       "      <td>-0.003325</td>\n",
       "      <td>-0.003325</td>\n",
       "      <td>-0.003325</td>\n",
       "      <td>1.000000</td>\n",
       "      <td>-0.003325</td>\n",
       "      <td>-0.008213</td>\n",
       "      <td>-0.007485</td>\n",
       "      <td>-0.003325</td>\n",
       "      <td>-0.005778</td>\n",
       "      <td>-0.003325</td>\n",
       "      <td>...</td>\n",
       "      <td>-0.028727</td>\n",
       "      <td>-0.002878</td>\n",
       "      <td>0.029546</td>\n",
       "      <td>0.078360</td>\n",
       "      <td>-0.002878</td>\n",
       "      <td>-0.145933</td>\n",
       "      <td>-0.002878</td>\n",
       "      <td>-0.010676</td>\n",
       "      <td>-0.003325</td>\n",
       "      <td>-0.002878</td>\n",
       "    </tr>\n",
       "    <tr>\n",
       "      <th>Selling_Price_0.18</th>\n",
       "      <td>-0.003325</td>\n",
       "      <td>-0.003325</td>\n",
       "      <td>-0.003325</td>\n",
       "      <td>-0.003325</td>\n",
       "      <td>1.000000</td>\n",
       "      <td>-0.008213</td>\n",
       "      <td>-0.007485</td>\n",
       "      <td>-0.003325</td>\n",
       "      <td>-0.005778</td>\n",
       "      <td>-0.003325</td>\n",
       "      <td>...</td>\n",
       "      <td>-0.028727</td>\n",
       "      <td>-0.002878</td>\n",
       "      <td>0.029546</td>\n",
       "      <td>0.078360</td>\n",
       "      <td>-0.002878</td>\n",
       "      <td>0.022785</td>\n",
       "      <td>-0.002878</td>\n",
       "      <td>-0.010676</td>\n",
       "      <td>-0.003325</td>\n",
       "      <td>-0.002878</td>\n",
       "    </tr>\n",
       "    <tr>\n",
       "      <th>...</th>\n",
       "      <td>...</td>\n",
       "      <td>...</td>\n",
       "      <td>...</td>\n",
       "      <td>...</td>\n",
       "      <td>...</td>\n",
       "      <td>...</td>\n",
       "      <td>...</td>\n",
       "      <td>...</td>\n",
       "      <td>...</td>\n",
       "      <td>...</td>\n",
       "      <td>...</td>\n",
       "      <td>...</td>\n",
       "      <td>...</td>\n",
       "      <td>...</td>\n",
       "      <td>...</td>\n",
       "      <td>...</td>\n",
       "      <td>...</td>\n",
       "      <td>...</td>\n",
       "      <td>...</td>\n",
       "      <td>...</td>\n",
       "      <td>...</td>\n",
       "    </tr>\n",
       "    <tr>\n",
       "      <th>Transmission_Manual</th>\n",
       "      <td>0.022785</td>\n",
       "      <td>0.022785</td>\n",
       "      <td>0.022785</td>\n",
       "      <td>-0.145933</td>\n",
       "      <td>0.022785</td>\n",
       "      <td>0.056280</td>\n",
       "      <td>-0.100629</td>\n",
       "      <td>0.022785</td>\n",
       "      <td>0.039596</td>\n",
       "      <td>0.022785</td>\n",
       "      <td>...</td>\n",
       "      <td>-0.094681</td>\n",
       "      <td>-0.126329</td>\n",
       "      <td>0.102161</td>\n",
       "      <td>0.067332</td>\n",
       "      <td>-0.126329</td>\n",
       "      <td>1.000000</td>\n",
       "      <td>-0.126329</td>\n",
       "      <td>0.073154</td>\n",
       "      <td>-0.145933</td>\n",
       "      <td>-0.126329</td>\n",
       "    </tr>\n",
       "    <tr>\n",
       "      <th>Transmission_Transmission</th>\n",
       "      <td>-0.002878</td>\n",
       "      <td>-0.002878</td>\n",
       "      <td>-0.002878</td>\n",
       "      <td>-0.002878</td>\n",
       "      <td>-0.002878</td>\n",
       "      <td>-0.007110</td>\n",
       "      <td>-0.006479</td>\n",
       "      <td>-0.002878</td>\n",
       "      <td>-0.005002</td>\n",
       "      <td>-0.002878</td>\n",
       "      <td>...</td>\n",
       "      <td>-0.024868</td>\n",
       "      <td>1.000000</td>\n",
       "      <td>-0.097418</td>\n",
       "      <td>-0.036732</td>\n",
       "      <td>1.000000</td>\n",
       "      <td>-0.126329</td>\n",
       "      <td>1.000000</td>\n",
       "      <td>-0.009241</td>\n",
       "      <td>-0.002878</td>\n",
       "      <td>1.000000</td>\n",
       "    </tr>\n",
       "    <tr>\n",
       "      <th>Owner_1</th>\n",
       "      <td>-0.010676</td>\n",
       "      <td>0.311460</td>\n",
       "      <td>-0.010676</td>\n",
       "      <td>-0.010676</td>\n",
       "      <td>-0.010676</td>\n",
       "      <td>0.371485</td>\n",
       "      <td>0.121000</td>\n",
       "      <td>-0.010676</td>\n",
       "      <td>-0.018552</td>\n",
       "      <td>-0.010676</td>\n",
       "      <td>...</td>\n",
       "      <td>-0.045848</td>\n",
       "      <td>-0.009241</td>\n",
       "      <td>0.049246</td>\n",
       "      <td>0.096459</td>\n",
       "      <td>-0.009241</td>\n",
       "      <td>0.073154</td>\n",
       "      <td>-0.009241</td>\n",
       "      <td>1.000000</td>\n",
       "      <td>-0.010676</td>\n",
       "      <td>-0.009241</td>\n",
       "    </tr>\n",
       "    <tr>\n",
       "      <th>Owner_3</th>\n",
       "      <td>-0.003325</td>\n",
       "      <td>-0.003325</td>\n",
       "      <td>-0.003325</td>\n",
       "      <td>-0.003325</td>\n",
       "      <td>-0.003325</td>\n",
       "      <td>-0.008213</td>\n",
       "      <td>-0.007485</td>\n",
       "      <td>-0.003325</td>\n",
       "      <td>-0.005778</td>\n",
       "      <td>-0.003325</td>\n",
       "      <td>...</td>\n",
       "      <td>-0.028727</td>\n",
       "      <td>-0.002878</td>\n",
       "      <td>0.029546</td>\n",
       "      <td>0.078360</td>\n",
       "      <td>-0.002878</td>\n",
       "      <td>-0.145933</td>\n",
       "      <td>-0.002878</td>\n",
       "      <td>-0.010676</td>\n",
       "      <td>1.000000</td>\n",
       "      <td>-0.002878</td>\n",
       "    </tr>\n",
       "    <tr>\n",
       "      <th>Owner_Owner</th>\n",
       "      <td>-0.002878</td>\n",
       "      <td>-0.002878</td>\n",
       "      <td>-0.002878</td>\n",
       "      <td>-0.002878</td>\n",
       "      <td>-0.002878</td>\n",
       "      <td>-0.007110</td>\n",
       "      <td>-0.006479</td>\n",
       "      <td>-0.002878</td>\n",
       "      <td>-0.005002</td>\n",
       "      <td>-0.002878</td>\n",
       "      <td>...</td>\n",
       "      <td>-0.024868</td>\n",
       "      <td>1.000000</td>\n",
       "      <td>-0.097418</td>\n",
       "      <td>-0.036732</td>\n",
       "      <td>1.000000</td>\n",
       "      <td>-0.126329</td>\n",
       "      <td>1.000000</td>\n",
       "      <td>-0.009241</td>\n",
       "      <td>-0.002878</td>\n",
       "      <td>1.000000</td>\n",
       "    </tr>\n",
       "  </tbody>\n",
       "</table>\n",
       "<p>519 rows × 519 columns</p>\n",
       "</div>"
      ],
      "text/plain": [
       "                           Selling_Price_0.12  Selling_Price_0.15  \\\n",
       "Selling_Price_0.12                   1.000000           -0.003325   \n",
       "Selling_Price_0.15                  -0.003325            1.000000   \n",
       "Selling_Price_0.16                  -0.003325           -0.003325   \n",
       "Selling_Price_0.17                  -0.003325           -0.003325   \n",
       "Selling_Price_0.18                  -0.003325           -0.003325   \n",
       "...                                       ...                 ...   \n",
       "Transmission_Manual                  0.022785            0.022785   \n",
       "Transmission_Transmission           -0.002878           -0.002878   \n",
       "Owner_1                             -0.010676            0.311460   \n",
       "Owner_3                             -0.003325           -0.003325   \n",
       "Owner_Owner                         -0.002878           -0.002878   \n",
       "\n",
       "                           Selling_Price_0.16  Selling_Price_0.17  \\\n",
       "Selling_Price_0.12                  -0.003325           -0.003325   \n",
       "Selling_Price_0.15                  -0.003325           -0.003325   \n",
       "Selling_Price_0.16                   1.000000           -0.003325   \n",
       "Selling_Price_0.17                  -0.003325            1.000000   \n",
       "Selling_Price_0.18                  -0.003325           -0.003325   \n",
       "...                                       ...                 ...   \n",
       "Transmission_Manual                  0.022785           -0.145933   \n",
       "Transmission_Transmission           -0.002878           -0.002878   \n",
       "Owner_1                             -0.010676           -0.010676   \n",
       "Owner_3                             -0.003325           -0.003325   \n",
       "Owner_Owner                         -0.002878           -0.002878   \n",
       "\n",
       "                           Selling_Price_0.18  Selling_Price_0.2  \\\n",
       "Selling_Price_0.12                  -0.003325          -0.008213   \n",
       "Selling_Price_0.15                  -0.003325          -0.008213   \n",
       "Selling_Price_0.16                  -0.003325          -0.008213   \n",
       "Selling_Price_0.17                  -0.003325          -0.008213   \n",
       "Selling_Price_0.18                   1.000000          -0.008213   \n",
       "...                                       ...                ...   \n",
       "Transmission_Manual                  0.022785           0.056280   \n",
       "Transmission_Transmission           -0.002878          -0.007110   \n",
       "Owner_1                             -0.010676           0.371485   \n",
       "Owner_3                             -0.003325          -0.008213   \n",
       "Owner_Owner                         -0.002878          -0.007110   \n",
       "\n",
       "                           Selling_Price_0.25  Selling_Price_0.27  \\\n",
       "Selling_Price_0.12                  -0.007485           -0.003325   \n",
       "Selling_Price_0.15                  -0.007485           -0.003325   \n",
       "Selling_Price_0.16                  -0.007485           -0.003325   \n",
       "Selling_Price_0.17                  -0.007485           -0.003325   \n",
       "Selling_Price_0.18                  -0.007485           -0.003325   \n",
       "...                                       ...                 ...   \n",
       "Transmission_Manual                 -0.100629            0.022785   \n",
       "Transmission_Transmission           -0.006479           -0.002878   \n",
       "Owner_1                              0.121000           -0.010676   \n",
       "Owner_3                             -0.007485           -0.003325   \n",
       "Owner_Owner                         -0.006479           -0.002878   \n",
       "\n",
       "                           Selling_Price_0.3  Selling_Price_0.31  ...  \\\n",
       "Selling_Price_0.12                 -0.005778           -0.003325  ...   \n",
       "Selling_Price_0.15                 -0.005778           -0.003325  ...   \n",
       "Selling_Price_0.16                 -0.005778           -0.003325  ...   \n",
       "Selling_Price_0.17                 -0.005778           -0.003325  ...   \n",
       "Selling_Price_0.18                 -0.005778           -0.003325  ...   \n",
       "...                                      ...                 ...  ...   \n",
       "Transmission_Manual                 0.039596            0.022785  ...   \n",
       "Transmission_Transmission          -0.005002           -0.002878  ...   \n",
       "Owner_1                            -0.018552           -0.010676  ...   \n",
       "Owner_3                            -0.005778           -0.003325  ...   \n",
       "Owner_Owner                        -0.005002           -0.002878  ...   \n",
       "\n",
       "                           Fuel_Type_Diesel  Fuel_Type_Fuel_Type  \\\n",
       "Selling_Price_0.12                -0.028727            -0.002878   \n",
       "Selling_Price_0.15                -0.028727            -0.002878   \n",
       "Selling_Price_0.16                -0.028727            -0.002878   \n",
       "Selling_Price_0.17                -0.028727            -0.002878   \n",
       "Selling_Price_0.18                -0.028727            -0.002878   \n",
       "...                                     ...                  ...   \n",
       "Transmission_Manual               -0.094681            -0.126329   \n",
       "Transmission_Transmission         -0.024868             1.000000   \n",
       "Owner_1                           -0.045848            -0.009241   \n",
       "Owner_3                           -0.028727            -0.002878   \n",
       "Owner_Owner                       -0.024868             1.000000   \n",
       "\n",
       "                           Fuel_Type_Petrol  Seller_Type_Individual  \\\n",
       "Selling_Price_0.12                 0.029546                0.078360   \n",
       "Selling_Price_0.15                 0.029546                0.078360   \n",
       "Selling_Price_0.16                 0.029546                0.078360   \n",
       "Selling_Price_0.17                 0.029546                0.078360   \n",
       "Selling_Price_0.18                 0.029546                0.078360   \n",
       "...                                     ...                     ...   \n",
       "Transmission_Manual                0.102161                0.067332   \n",
       "Transmission_Transmission         -0.097418               -0.036732   \n",
       "Owner_1                            0.049246                0.096459   \n",
       "Owner_3                            0.029546                0.078360   \n",
       "Owner_Owner                       -0.097418               -0.036732   \n",
       "\n",
       "                           Seller_Type_Seller_Type  Transmission_Manual  \\\n",
       "Selling_Price_0.12                       -0.002878             0.022785   \n",
       "Selling_Price_0.15                       -0.002878             0.022785   \n",
       "Selling_Price_0.16                       -0.002878             0.022785   \n",
       "Selling_Price_0.17                       -0.002878            -0.145933   \n",
       "Selling_Price_0.18                       -0.002878             0.022785   \n",
       "...                                            ...                  ...   \n",
       "Transmission_Manual                      -0.126329             1.000000   \n",
       "Transmission_Transmission                 1.000000            -0.126329   \n",
       "Owner_1                                  -0.009241             0.073154   \n",
       "Owner_3                                  -0.002878            -0.145933   \n",
       "Owner_Owner                               1.000000            -0.126329   \n",
       "\n",
       "                           Transmission_Transmission   Owner_1   Owner_3  \\\n",
       "Selling_Price_0.12                         -0.002878 -0.010676 -0.003325   \n",
       "Selling_Price_0.15                         -0.002878  0.311460 -0.003325   \n",
       "Selling_Price_0.16                         -0.002878 -0.010676 -0.003325   \n",
       "Selling_Price_0.17                         -0.002878 -0.010676 -0.003325   \n",
       "Selling_Price_0.18                         -0.002878 -0.010676 -0.003325   \n",
       "...                                              ...       ...       ...   \n",
       "Transmission_Manual                        -0.126329  0.073154 -0.145933   \n",
       "Transmission_Transmission                   1.000000 -0.009241 -0.002878   \n",
       "Owner_1                                    -0.009241  1.000000 -0.010676   \n",
       "Owner_3                                    -0.002878 -0.010676  1.000000   \n",
       "Owner_Owner                                 1.000000 -0.009241 -0.002878   \n",
       "\n",
       "                           Owner_Owner  \n",
       "Selling_Price_0.12           -0.002878  \n",
       "Selling_Price_0.15           -0.002878  \n",
       "Selling_Price_0.16           -0.002878  \n",
       "Selling_Price_0.17           -0.002878  \n",
       "Selling_Price_0.18           -0.002878  \n",
       "...                                ...  \n",
       "Transmission_Manual          -0.126329  \n",
       "Transmission_Transmission     1.000000  \n",
       "Owner_1                      -0.009241  \n",
       "Owner_3                      -0.002878  \n",
       "Owner_Owner                   1.000000  \n",
       "\n",
       "[519 rows x 519 columns]"
      ]
     },
     "execution_count": 21,
     "metadata": {},
     "output_type": "execute_result"
    }
   ],
   "source": [
    "final_dataset.corr()"
   ]
  },
  {
   "cell_type": "code",
   "execution_count": null,
   "id": "ab34b506",
   "metadata": {},
   "outputs": [],
   "source": [
    "import seaborn as sns\n",
    "from matplotlib import figure\n",
    "#get correlations of each features in dataset\n",
    "corrmat =final_dataset.corr()\n",
    "top_corr_features = corrmat.index\n",
    "figure.Figure(figsize=(20,20))\n",
    "#plot heat map\n",
    "g=sns.heatmap(final_dataset[top_corr_features].corr(),annot=True,cmap=\"RdYlGn\")"
   ]
  },
  {
   "cell_type": "markdown",
   "id": "ce0e6327",
   "metadata": {},
   "source": [
    "# visualisation des données"
   ]
  },
  {
   "cell_type": "code",
   "execution_count": null,
   "id": "42734dba",
   "metadata": {},
   "outputs": [],
   "source": [
    "import seaborn as sns"
   ]
  },
  {
   "cell_type": "code",
   "execution_count": null,
   "id": "a6f5268c",
   "metadata": {},
   "outputs": [],
   "source": [
    "sns.pairplot(final_dataset, hue='Selling_Price')"
   ]
  },
  {
   "cell_type": "markdown",
   "id": "72910021",
   "metadata": {},
   "source": [
    "# définir le target et les features"
   ]
  },
  {
   "cell_type": "code",
   "execution_count": 57,
   "id": "a797eea0",
   "metadata": {},
   "outputs": [],
   "source": [
    "X=final_dataset.iloc[:,1:]\n",
    "y=final_dataset.iloc[:,0]#selling price : target"
   ]
  },
  {
   "cell_type": "markdown",
   "id": "e94cd9b5",
   "metadata": {},
   "source": [
    "# diviser le dataset"
   ]
  },
  {
   "cell_type": "code",
   "execution_count": 58,
   "id": "b52fd4ca",
   "metadata": {},
   "outputs": [],
   "source": [
    "from sklearn.model_selection import train_test_split\n",
    "X_train, X_test, y_train, y_test = train_test_split(X, y, test_size=0.3, random_state=0)"
   ]
  },
  {
   "cell_type": "markdown",
   "id": "191a8398",
   "metadata": {},
   "source": [
    "# trainer différents modèles"
   ]
  },
  {
   "cell_type": "code",
   "execution_count": 70,
   "id": "c76f4f89",
   "metadata": {},
   "outputs": [],
   "source": [
    "from sklearn.model_selection import RandomizedSearchCV#pour chercher les meilleures valeurs pour le model random forest\n",
    "import numpy as np"
   ]
  },
  {
   "cell_type": "code",
   "execution_count": 71,
   "id": "cd9f506c",
   "metadata": {},
   "outputs": [],
   "source": [
    " #Randomized Search CV\n",
    "\n",
    "# Number of trees in random forest\n",
    "n_estimators = [int(x) for x in np.linspace(start = 100, stop = 1200, num = 12)]\n",
    "# Number of features to consider at every split\n",
    "max_features = ['auto', 'sqrt']#auto: This will simply take all the features \n",
    "                                #sqrt: This option will take square root of the total number of features\n",
    "# Maximum number of levels in tree\n",
    "max_depth = [int(x) for x in np.linspace(5, 30, num = 6)]\n",
    "\n",
    "# Minimum number of samples required to split a node\n",
    "min_samples_split = [2, 5, 10, 15, 100]#Chaque feuille d’un arbre prédit une valeur calculée à partir d’un ensemble\n",
    "#                                     d’observations. Ce nombre ne peut pas être inférieur à la valeur de ce paramètre. Ce mécanisme \n",
    "#                                     limite la possibilité de faire du surapprentissage en augmentant la représentativité de chaque feuille.\n",
    "# Minimum number of samples required at each leaf node\n",
    "min_samples_leaf = [1, 2, 5, 10]#Le paramètre min_samples_leaf donne le nombre minimal d'échantillons dans un nœud feuille. \n",
    "#                                Ils permettent de mettre des contraintes sur la construction de l'arbre et donc de contrôler\n",
    "#                                indirectement le phénomène de sur-apprentissage."
   ]
  },
  {
   "cell_type": "code",
   "execution_count": 72,
   "id": "5d4163cd",
   "metadata": {},
   "outputs": [
    {
     "name": "stdout",
     "output_type": "stream",
     "text": [
      "{'n_estimators': [100, 200, 300, 400, 500, 600, 700, 800, 900, 1000, 1100, 1200], 'max_features': ['auto', 'sqrt'], 'max_depth': [5, 10, 15, 20, 25, 30], 'min_samples_split': [2, 5, 10, 15, 100], 'min_samples_leaf': [1, 2, 5, 10]}\n"
     ]
    }
   ],
   "source": [
    "# Create the random grid\n",
    "random_grid = {'n_estimators': n_estimators,\n",
    "               'max_features': max_features,\n",
    "               'max_depth': max_depth,\n",
    "               'min_samples_split': min_samples_split,\n",
    "               'min_samples_leaf': min_samples_leaf}\n",
    "\n",
    "print(random_grid)"
   ]
  },
  {
   "cell_type": "code",
   "execution_count": 73,
   "id": "baae915f",
   "metadata": {},
   "outputs": [],
   "source": [
    "from sklearn.ensemble import RandomForestRegressor\n",
    "rf = RandomForestRegressor()"
   ]
  },
  {
   "cell_type": "code",
   "execution_count": 74,
   "id": "4badcd31",
   "metadata": {},
   "outputs": [],
   "source": [
    "# Random search of parameters, using 3 fold cross validation, \n",
    "# search across 100 different combinations\n",
    "rf_random = RandomizedSearchCV(estimator = rf, param_distributions = random_grid,scoring='neg_mean_squared_error', n_iter = 10, cv = 5)\n"
   ]
  },
  {
   "cell_type": "code",
   "execution_count": 75,
   "id": "5a5b0ba9",
   "metadata": {},
   "outputs": [
    {
     "data": {
      "text/plain": [
       "RandomizedSearchCV(cv=5, estimator=RandomForestRegressor(),\n",
       "                   param_distributions={'max_depth': [5, 10, 15, 20, 25, 30],\n",
       "                                        'max_features': ['auto', 'sqrt'],\n",
       "                                        'min_samples_leaf': [1, 2, 5, 10],\n",
       "                                        'min_samples_split': [2, 5, 10, 15,\n",
       "                                                              100],\n",
       "                                        'n_estimators': [100, 200, 300, 400,\n",
       "                                                         500, 600, 700, 800,\n",
       "                                                         900, 1000, 1100,\n",
       "                                                         1200]},\n",
       "                   scoring='neg_mean_squared_error')"
      ]
     },
     "execution_count": 75,
     "metadata": {},
     "output_type": "execute_result"
    }
   ],
   "source": [
    "rf_random.fit(X_train,y_train)\n"
   ]
  },
  {
   "cell_type": "code",
   "execution_count": 76,
   "id": "8aaa0064",
   "metadata": {},
   "outputs": [
    {
     "data": {
      "text/plain": [
       "{'n_estimators': 400,\n",
       " 'min_samples_split': 5,\n",
       " 'min_samples_leaf': 2,\n",
       " 'max_features': 'auto',\n",
       " 'max_depth': 10}"
      ]
     },
     "execution_count": 76,
     "metadata": {},
     "output_type": "execute_result"
    }
   ],
   "source": [
    "rf_random.best_params_"
   ]
  },
  {
   "cell_type": "code",
   "execution_count": 50,
   "id": "ce8b8fcc",
   "metadata": {},
   "outputs": [
    {
     "data": {
      "text/plain": [
       "-4.203542279552072"
      ]
     },
     "execution_count": 50,
     "metadata": {},
     "output_type": "execute_result"
    }
   ],
   "source": [
    "rf_random.best_score_"
   ]
  },
  {
   "cell_type": "code",
   "execution_count": 77,
   "id": "a22dbab0",
   "metadata": {},
   "outputs": [],
   "source": [
    "rf = RandomForestRegressor(n_estimators= 1100, min_samples_split= 2,min_samples_leaf= 1, max_features= 'auto',\n",
    " max_depth= 20)"
   ]
  },
  {
   "cell_type": "code",
   "execution_count": 78,
   "id": "b5d35fb4",
   "metadata": {},
   "outputs": [
    {
     "data": {
      "text/plain": [
       "RandomForestRegressor(max_depth=20, n_estimators=1100)"
      ]
     },
     "execution_count": 78,
     "metadata": {},
     "output_type": "execute_result"
    }
   ],
   "source": [
    "rf.fit(X_train,y_train)"
   ]
  },
  {
   "cell_type": "code",
   "execution_count": 79,
   "id": "38782873",
   "metadata": {},
   "outputs": [],
   "source": [
    "predictions=rf_random.predict(X_test)"
   ]
  },
  {
   "cell_type": "code",
   "execution_count": 80,
   "id": "628302c0",
   "metadata": {},
   "outputs": [
    {
     "data": {
      "text/plain": [
       "0.9867138910628779"
      ]
     },
     "execution_count": 80,
     "metadata": {},
     "output_type": "execute_result"
    }
   ],
   "source": [
    "rf.score(X_train,y_train)"
   ]
  },
  {
   "cell_type": "code",
   "execution_count": 81,
   "id": "38656383",
   "metadata": {},
   "outputs": [
    {
     "data": {
      "text/plain": [
       "0.9122782950770016"
      ]
     },
     "execution_count": 81,
     "metadata": {},
     "output_type": "execute_result"
    }
   ],
   "source": [
    "rf.score(X_test, y_test)"
   ]
  },
  {
   "cell_type": "code",
   "execution_count": 82,
   "id": "f7824b9c",
   "metadata": {},
   "outputs": [],
   "source": [
    "from sklearn import metrics"
   ]
  },
  {
   "cell_type": "code",
   "execution_count": 83,
   "id": "0132bf9d",
   "metadata": {},
   "outputs": [
    {
     "name": "stdout",
     "output_type": "stream",
     "text": [
      "MAE: 0.7718787564008038\n",
      "MSE: 2.6301427982998056\n",
      "RMSE: 1.6217715000269939\n"
     ]
    }
   ],
   "source": [
    "#calculer les erreurs\n",
    "print('MAE:', metrics.mean_absolute_error(y_test, predictions))\n",
    "print('MSE:', metrics.mean_squared_error(y_test, predictions))\n",
    "print('RMSE:', np.sqrt(metrics.mean_squared_error(y_test, predictions)))"
   ]
  },
  {
   "cell_type": "code",
   "execution_count": 87,
   "id": "c0b48ec1",
   "metadata": {},
   "outputs": [
    {
     "data": {
      "text/plain": [
       "<matplotlib.collections.PathCollection at 0x1eb1bc03820>"
      ]
     },
     "execution_count": 87,
     "metadata": {},
     "output_type": "execute_result"
    },
    {
     "data": {
      "image/png": "[encoded data removed]",
      "text/plain": [
       "<Figure size 432x288 with 1 Axes>"
      ]
     },
     "metadata": {
      "needs_background": "light"
     },
     "output_type": "display_data"
    }
   ],
   "source": [
    "#visualiser la prédiction par rapport y test\n",
    "import matplotlib.pyplot as plt\n",
    "plt.scatter(y_test,predictions)"
   ]
  },
  {
   "cell_type": "code",
   "execution_count": 88,
   "id": "49ca0ae7",
   "metadata": {},
   "outputs": [
    {
     "data": {
      "text/plain": [
       "LinearRegression()"
      ]
     },
     "execution_count": 88,
     "metadata": {},
     "output_type": "execute_result"
    }
   ],
   "source": [
    "#linear regression\n",
    "from sklearn import linear_model\n",
    "reg = linear_model.LinearRegression()\n",
    "reg.fit(X_train,y_train)"
   ]
  },
  {
   "cell_type": "code",
   "execution_count": 89,
   "id": "86a2ac2e",
   "metadata": {},
   "outputs": [
    {
     "data": {
      "text/plain": [
       "0.8926207626208046"
      ]
     },
     "execution_count": 89,
     "metadata": {},
     "output_type": "execute_result"
    }
   ],
   "source": [
    "reg.score(X_train,y_train)"
   ]
  },
  {
   "cell_type": "code",
   "execution_count": 90,
   "id": "e24bbdde",
   "metadata": {},
   "outputs": [
    {
     "data": {
      "text/plain": [
       "0.8517983059778262"
      ]
     },
     "execution_count": 90,
     "metadata": {},
     "output_type": "execute_result"
    }
   ],
   "source": [
    "reg.score(X_test,y_test)"
   ]
  },
  {
   "cell_type": "code",
   "execution_count": 91,
   "id": "b18e676c",
   "metadata": {},
   "outputs": [],
   "source": [
    "#k plus proche voisin\n",
    "from sklearn.neighbors import KNeighborsRegressor\n",
    "from sklearn.model_selection import GridSearchCV\n",
    "import numpy as np"
   ]
  },
  {
   "cell_type": "code",
   "execution_count": 92,
   "id": "796b30a5",
   "metadata": {},
   "outputs": [
    {
     "data": {
      "text/plain": [
       "GridSearchCV(cv=5, estimator=KNeighborsRegressor(),\n",
       "             param_grid={'metric': ['euclidean', 'manhattan'],\n",
       "                         'n_neighbors': array([ 1,  2,  3,  4,  5,  6,  7,  8,  9, 10, 11, 12, 13, 14, 15, 16, 17,\n",
       "       18, 19])})"
      ]
     },
     "execution_count": 92,
     "metadata": {},
     "output_type": "execute_result"
    }
   ],
   "source": [
    "#utiliser grid search cv pour choisir les meilleurs hyper paramètres\n",
    "param_grid = {'n_neighbors': np.arange(1, 20),\n",
    "              'metric': ['euclidean', 'manhattan']}\n",
    "\n",
    "grid = GridSearchCV(KNeighborsRegressor(), param_grid, cv=5)\n",
    "\n",
    "grid.fit(X_train, y_train)"
   ]
  },
  {
   "cell_type": "code",
   "execution_count": 93,
   "id": "4c3fdeb0",
   "metadata": {},
   "outputs": [
    {
     "name": "stdout",
     "output_type": "stream",
     "text": [
      "0.01162731344993433\n",
      "{'metric': 'manhattan', 'n_neighbors': 17}\n"
     ]
    }
   ],
   "source": [
    "print(grid.best_score_)\n",
    "print(grid.best_params_)# le score est trop faible k plus proche ne va pas être élu"
   ]
  },
  {
   "cell_type": "code",
   "execution_count": 94,
   "id": "8b053cf7",
   "metadata": {},
   "outputs": [
    {
     "data": {
      "text/plain": [
       "BayesianRidge()"
      ]
     },
     "execution_count": 94,
     "metadata": {},
     "output_type": "execute_result"
    }
   ],
   "source": [
    "#Bayesian ridge régression\n",
    "from sklearn import linear_model\n",
    "reg1 = linear_model.BayesianRidge()\n",
    "reg1.fit(X_train, y_train)"
   ]
  },
  {
   "cell_type": "code",
   "execution_count": 95,
   "id": "4a394cdc",
   "metadata": {},
   "outputs": [
    {
     "data": {
      "text/plain": [
       "0.8521143141170857"
      ]
     },
     "execution_count": 95,
     "metadata": {},
     "output_type": "execute_result"
    }
   ],
   "source": [
    "reg1.score(X_test, y_test)"
   ]
  },
  {
   "cell_type": "code",
   "execution_count": 96,
   "id": "c8ee21f0",
   "metadata": {},
   "outputs": [
    {
     "data": {
      "text/plain": [
       "0.9162360128619098"
      ]
     },
     "execution_count": 96,
     "metadata": {},
     "output_type": "execute_result"
    }
   ],
   "source": [
    "#arbre de décision\n",
    "from sklearn import tree\n",
    "model = tree.DecisionTreeRegressor() \n",
    "model.fit(X_train, y_train)\n",
    "model.score(X_test, y_test)"
   ]
  },
  {
   "cell_type": "code",
   "execution_count": 98,
   "id": "d0847064",
   "metadata": {},
   "outputs": [
    {
     "data": {
      "text/plain": [
       "0.9222277385198966"
      ]
     },
     "execution_count": 98,
     "metadata": {},
     "output_type": "execute_result"
    }
   ],
   "source": [
    "#stacking en combinant random forest et arbre de décision\n",
    "from sklearn.ensemble import StackingRegressor\n",
    "model = StackingRegressor([('regression a pls vars', rf),\n",
    "                            ('arbre de decision', model)],\n",
    "                             final_estimator=reg)\n",
    "\n",
    "model.fit(X_train, y_train)\n",
    "model.score(X_test, y_test)# 0.92 comme score"
   ]
  },
  {
   "cell_type": "code",
   "execution_count": null,
   "id": "df31ff69",
   "metadata": {},
   "outputs": [],
   "source": []
  },
  {
   "cell_type": "code",
   "execution_count": null,
   "id": "33a60c14",
   "metadata": {},
   "outputs": [],
   "source": []
  }
 ],
 "metadata": {
  "kernelspec": {
   "display_name": "Python 3 (ipykernel)",
   "language": "python",
   "name": "python3"
  },
  "language_info": {
   "codemirror_mode": {
    "name": "ipython",
    "version": 3
   },
   "file_extension": ".py",
   "mimetype": "text/x-python",
   "name": "python",
   "nbconvert_exporter": "python",
   "pygments_lexer": "ipython3",
   "version": "3.9.7"
  }
 },
 "nbformat": 4,
 "nbformat_minor": 5
}
